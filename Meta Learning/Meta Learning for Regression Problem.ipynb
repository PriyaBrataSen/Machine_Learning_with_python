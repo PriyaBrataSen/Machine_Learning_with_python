{
 "cells": [
  {
   "cell_type": "code",
   "execution_count": 1,
   "metadata": {},
   "outputs": [
    {
     "name": "stderr",
     "output_type": "stream",
     "text": [
      "C:\\Users\\PSEN\\AppData\\Local\\Continuum\\anaconda3\\lib\\site-packages\\dask\\dataframe\\utils.py:14: FutureWarning: pandas.util.testing is deprecated. Use the functions in the public API at pandas.testing instead.\n",
      "  import pandas.util.testing as tm\n"
     ]
    }
   ],
   "source": [
    "# importing necessary libararies\n",
    "\n",
    "from numpy import mean\n",
    "from numpy import std\n",
    "from sklearn.datasets import make_regression\n",
    "from sklearn.model_selection import cross_val_score\n",
    "from sklearn.model_selection import GridSearchCV, cross_val_score, KFold,RepeatedKFold\n",
    "from sklearn.linear_model import LinearRegression\n",
    "from sklearn.neighbors import KNeighborsRegressor\n",
    "from sklearn.tree import DecisionTreeRegressor\n",
    "from sklearn.ensemble import RandomForestRegressor\n",
    "from sklearn.ensemble import StackingRegressor\n",
    "import xgboost as xgb\n",
    "from sklearn.svm import SVR\n",
    "from matplotlib import pyplot\n",
    "import seaborn as sns"
   ]
  },
  {
   "cell_type": "markdown",
   "metadata": {},
   "source": [
    "## Building a dataset using the make_regression libarary"
   ]
  },
  {
   "cell_type": "code",
   "execution_count": 2,
   "metadata": {},
   "outputs": [
    {
     "name": "stdout",
     "output_type": "stream",
     "text": [
      "(1000, 20)\n",
      "(1000,)\n"
     ]
    }
   ],
   "source": [
    "\n",
    "\n",
    "def dataset():\n",
    "\tx, y = make_regression(n_samples=1000, n_features=20, n_informative=10, noise=0.1, random_state=1)\n",
    "\treturn x, y\n",
    "\n",
    "x,y=dataset()\n",
    "\n",
    "print(x.shape)\n",
    "print(y.shape)"
   ]
  },
  {
   "cell_type": "markdown",
   "metadata": {},
   "source": [
    "## This function will help to build the stacking. We are stacking 5 different machine learning model as base estimator and the linear regression as a final meta learner"
   ]
  },
  {
   "cell_type": "code",
   "execution_count": 3,
   "metadata": {},
   "outputs": [],
   "source": [
    "\n",
    "\n",
    "def stacking():\n",
    "    estimators=[\n",
    "        ('knn',KNeighborsRegressor()),\n",
    "        ('svm',SVR()),\n",
    "        ('cart',DecisionTreeRegressor()),\n",
    "        ('rf',RandomForestRegressor()),\n",
    "        ('xgb',xgb.XGBRegressor()),\n",
    "    ]\n",
    "    stack_model=StackingRegressor(estimators=estimators,final_estimator=LinearRegression())\n",
    "    return stack_model"
   ]
  },
  {
   "cell_type": "markdown",
   "metadata": {},
   "source": [
    "## This function will allow to put all the base models along withthe stacked model in one dictionary. So that we can run them and see the performances\n"
   ]
  },
  {
   "cell_type": "code",
   "execution_count": 4,
   "metadata": {},
   "outputs": [],
   "source": [
    "\n",
    "def model():\n",
    "    models = dict()\n",
    "    models['knn'] = KNeighborsRegressor()\n",
    "    models['cart'] = DecisionTreeRegressor()\n",
    "    models['svm'] = SVR()\n",
    "    models['rf']=RandomForestRegressor()\n",
    "    models['xgb']=xgb.XGBRegressor()\n",
    "    models['stacking']=stacking()\n",
    "    \n",
    "    return models\n",
    "    "
   ]
  },
  {
   "cell_type": "markdown",
   "metadata": {},
   "source": [
    "## Model Evaluation. We are using the negative mean abs error. So the higher the 'neg_mean_abs_error', the better the model performance"
   ]
  },
  {
   "cell_type": "code",
   "execution_count": 5,
   "metadata": {},
   "outputs": [],
   "source": [
    "\n",
    "\n",
    "def evaluate(model, x,y):\n",
    "    scores=cross_val_score(model,x,y,scoring='neg_mean_absolute_error',cv=3,n_jobs=1,error_score='raise')\n",
    "    return scores\n",
    "    "
   ]
  },
  {
   "cell_type": "code",
   "execution_count": 6,
   "metadata": {},
   "outputs": [
    {
     "name": "stdout",
     "output_type": "stream",
     "text": [
      "knn -74.492 (3.947)\n",
      "cart -93.053 (1.675)\n",
      "svm -116.746 (8.858)\n",
      "rf -57.589 (2.492)\n",
      "xgb -50.545 (1.953)\n",
      "stacking -37.749 (1.536)\n"
     ]
    }
   ],
   "source": [
    "# get the models to evaluate\n",
    "models = model()\n",
    "# evaluate the models and store results\n",
    "results=list()\n",
    "names = list()\n",
    "for name, model in models.items():\n",
    "\tscores = evaluate(model, x, y)\n",
    "\tresults.append(scores)\n",
    "\tnames.append(name)\n",
    "\tprint('%s %.3f (%.3f)' % (name, mean(scores), std(scores)))"
   ]
  },
  {
   "cell_type": "markdown",
   "metadata": {},
   "source": [
    "### From the results, we can see that we got the best mean performance in the stacked model compared to the base ml models. The standard deviation also indicates that there is less variation in the performances in each folds when we use stacking. Decision tree is showing the least amount of variation but the average performance of decision tree is not even close to the stacked learner "
   ]
  },
  {
   "cell_type": "code",
   "execution_count": 7,
   "metadata": {},
   "outputs": [
    {
     "data": {
      "text/plain": [
       "<matplotlib.axes._subplots.AxesSubplot at 0x1926821c888>"
      ]
     },
     "execution_count": 7,
     "metadata": {},
     "output_type": "execute_result"
    },
    {
     "data": {
      "image/png": "[encoded data removed]",
      "text/plain": [
       "<Figure size 864x432 with 1 Axes>"
      ]
     },
     "metadata": {},
     "output_type": "display_data"
    }
   ],
   "source": [
    "\n",
    "sns.set(rc={'figure.figsize':(12,6)})\n",
    "sns.boxplot(x=names, y=results)"
   ]
  },
  {
   "cell_type": "code",
   "execution_count": null,
   "metadata": {},
   "outputs": [],
   "source": []
  }
 ],
 "metadata": {
  "kernelspec": {
   "display_name": "Python 3",
   "language": "python",
   "name": "python3"
  },
  "language_info": {
   "codemirror_mode": {
    "name": "ipython",
    "version": 3
   },
   "file_extension": ".py",
   "mimetype": "text/x-python",
   "name": "python",
   "nbconvert_exporter": "python",
   "pygments_lexer": "ipython3",
   "version": "3.7.4"
  }
 },
 "nbformat": 4,
 "nbformat_minor": 2
}
