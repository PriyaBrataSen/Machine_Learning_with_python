{
 "cells": [
  {
   "cell_type": "markdown",
   "metadata": {},
   "source": [
    "# Express Shipment Projection at customer,warehouse and carrier level"
   ]
  },
  {
   "cell_type": "code",
   "execution_count": 1,
   "metadata": {},
   "outputs": [
    {
     "name": "stderr",
     "output_type": "stream",
     "text": [
      "C:\\Users\\PSEN\\AppData\\Local\\Continuum\\anaconda3\\lib\\site-packages\\statsmodels\\tools\\_testing.py:19: FutureWarning: pandas.util.testing is deprecated. Use the functions in the public API at pandas.testing instead.\n",
      "  import pandas.util.testing as tm\n"
     ]
    }
   ],
   "source": [
    "import pyodbc\n",
    "import numpy as np\n",
    "import pandas as pd\n",
    "import matplotlib.pyplot as plt\n",
    "import seaborn as sns\n",
    "import datetime as dt\n",
    "\n",
    "from sklearn.ensemble import RandomForestRegressor\n",
    "from sklearn.metrics import mean_absolute_percentage_error, SCORERS\n",
    "from sklearn.model_selection import cross_val_score, KFold\n",
    "\n",
    "# Splitting data for hyperparameter tuning\n",
    "from sklearn.model_selection import TimeSeriesSplit\n",
    "import xgboost as xgb"
   ]
  },
  {
   "cell_type": "markdown",
   "metadata": {},
   "source": [
    "# Data Acquring"
   ]
  },
  {
   "cell_type": "markdown",
   "metadata": {},
   "source": [
    "### We are brining in shipments and order data by warehouse,customers and week in two different tables. SQL queries were used to bring those data from azure data lake"
   ]
  },
  {
   "cell_type": "code",
   "execution_count": 5,
   "metadata": {},
   "outputs": [],
   "source": [
    "df_shipment = df.copy()\n",
    "df_order = df1.copy()"
   ]
  },
  {
   "cell_type": "markdown",
   "metadata": {},
   "source": [
    "# Data pre-processing"
   ]
  },
  {
   "cell_type": "code",
   "execution_count": 6,
   "metadata": {},
   "outputs": [
    {
     "data": {
      "text/plain": [
       "FiscalWeekLastDate    datetime64[ns]\n",
       "wh_id                         object\n",
       "Customer                      object\n",
       "Customer Name                 object\n",
       "Units                        float64\n",
       "dtype: object"
      ]
     },
     "execution_count": 6,
     "metadata": {},
     "output_type": "execute_result"
    }
   ],
   "source": [
    "df_shipment.dtypes"
   ]
  },
  {
   "cell_type": "code",
   "execution_count": 7,
   "metadata": {},
   "outputs": [
    {
     "data": {
      "text/html": [
       "<div>\n",
       "<style scoped>\n",
       "    .dataframe tbody tr th:only-of-type {\n",
       "        vertical-align: middle;\n",
       "    }\n",
       "\n",
       "    .dataframe tbody tr th {\n",
       "        vertical-align: top;\n",
       "    }\n",
       "\n",
       "    .dataframe thead th {\n",
       "        text-align: right;\n",
       "    }\n",
       "</style>\n",
       "<table border=\"1\" class=\"dataframe\">\n",
       "  <thead>\n",
       "    <tr style=\"text-align: right;\">\n",
       "      <th></th>\n",
       "      <th>FiscalWeekLastDate</th>\n",
       "      <th>wh_id</th>\n",
       "      <th>Customer</th>\n",
       "      <th>Customer Name</th>\n",
       "      <th>Units</th>\n",
       "    </tr>\n",
       "  </thead>\n",
       "  <tbody>\n",
       "    <tr>\n",
       "      <th>0</th>\n",
       "      <td>2019-08-17</td>\n",
       "      <td>1</td>\n",
       "      <td>3111000</td>\n",
       "      <td>BEDDING PROS, LLC</td>\n",
       "      <td>5.0</td>\n",
       "    </tr>\n",
       "    <tr>\n",
       "      <th>1</th>\n",
       "      <td>2019-08-17</td>\n",
       "      <td>1</td>\n",
       "      <td>3590000-002</td>\n",
       "      <td>DIRECTBUY HOME IMPROVE-</td>\n",
       "      <td>1.0</td>\n",
       "    </tr>\n",
       "    <tr>\n",
       "      <th>2</th>\n",
       "      <td>2019-08-17</td>\n",
       "      <td>1</td>\n",
       "      <td>3556100</td>\n",
       "      <td>JCPENNEY CORP., INC.</td>\n",
       "      <td>22.0</td>\n",
       "    </tr>\n",
       "    <tr>\n",
       "      <th>3</th>\n",
       "      <td>2019-08-17</td>\n",
       "      <td>1</td>\n",
       "      <td>9946600-D52</td>\n",
       "      <td>DSG ILLINOIS, LLC</td>\n",
       "      <td>3.0</td>\n",
       "    </tr>\n",
       "    <tr>\n",
       "      <th>4</th>\n",
       "      <td>2019-08-17</td>\n",
       "      <td>1</td>\n",
       "      <td>1886800-07</td>\n",
       "      <td>GIBSON MCDONALD</td>\n",
       "      <td>21.0</td>\n",
       "    </tr>\n",
       "  </tbody>\n",
       "</table>\n",
       "</div>"
      ],
      "text/plain": [
       "  FiscalWeekLastDate wh_id     Customer            Customer Name  Units\n",
       "0         2019-08-17     1      3111000        BEDDING PROS, LLC    5.0\n",
       "1         2019-08-17     1  3590000-002  DIRECTBUY HOME IMPROVE-    1.0\n",
       "2         2019-08-17     1      3556100     JCPENNEY CORP., INC.   22.0\n",
       "3         2019-08-17     1  9946600-D52        DSG ILLINOIS, LLC    3.0\n",
       "4         2019-08-17     1   1886800-07          GIBSON MCDONALD   21.0"
      ]
     },
     "execution_count": 7,
     "metadata": {},
     "output_type": "execute_result"
    }
   ],
   "source": [
    "df_shipment.head()"
   ]
  },
  {
   "cell_type": "code",
   "execution_count": 8,
   "metadata": {},
   "outputs": [],
   "source": [
    "df_shipment = df_shipment.dropna().reset_index(drop=True)"
   ]
  },
  {
   "cell_type": "code",
   "execution_count": 9,
   "metadata": {},
   "outputs": [],
   "source": [
    "df_shipment['customer'] = df_shipment['Customer Name'].apply(lambda x: 'AMAZON' if 'AMAZON' in x else\n",
    "                                                             ('WAYFAIR' if 'WAYFAIR' in x else\n",
    "                                                              ('WALMART' if 'WALMART' in x else\n",
    "                                                               ('ASHCOMM' if 'ASHCOMM' in x else 'OTHER'))))"
   ]
  },
  {
   "cell_type": "code",
   "execution_count": 10,
   "metadata": {},
   "outputs": [
    {
     "data": {
      "text/html": [
       "<div>\n",
       "<style scoped>\n",
       "    .dataframe tbody tr th:only-of-type {\n",
       "        vertical-align: middle;\n",
       "    }\n",
       "\n",
       "    .dataframe tbody tr th {\n",
       "        vertical-align: top;\n",
       "    }\n",
       "\n",
       "    .dataframe thead th {\n",
       "        text-align: right;\n",
       "    }\n",
       "</style>\n",
       "<table border=\"1\" class=\"dataframe\">\n",
       "  <thead>\n",
       "    <tr style=\"text-align: right;\">\n",
       "      <th></th>\n",
       "      <th>Date</th>\n",
       "      <th>wh_id</th>\n",
       "      <th>Shipped Unit</th>\n",
       "      <th>customer</th>\n",
       "    </tr>\n",
       "  </thead>\n",
       "  <tbody>\n",
       "    <tr>\n",
       "      <th>0</th>\n",
       "      <td>2019-08-17</td>\n",
       "      <td>1</td>\n",
       "      <td>5.0</td>\n",
       "      <td>OTHER</td>\n",
       "    </tr>\n",
       "    <tr>\n",
       "      <th>1</th>\n",
       "      <td>2019-08-17</td>\n",
       "      <td>1</td>\n",
       "      <td>1.0</td>\n",
       "      <td>OTHER</td>\n",
       "    </tr>\n",
       "    <tr>\n",
       "      <th>2</th>\n",
       "      <td>2019-08-17</td>\n",
       "      <td>1</td>\n",
       "      <td>22.0</td>\n",
       "      <td>OTHER</td>\n",
       "    </tr>\n",
       "    <tr>\n",
       "      <th>3</th>\n",
       "      <td>2019-08-17</td>\n",
       "      <td>1</td>\n",
       "      <td>3.0</td>\n",
       "      <td>OTHER</td>\n",
       "    </tr>\n",
       "    <tr>\n",
       "      <th>4</th>\n",
       "      <td>2019-08-17</td>\n",
       "      <td>1</td>\n",
       "      <td>21.0</td>\n",
       "      <td>OTHER</td>\n",
       "    </tr>\n",
       "  </tbody>\n",
       "</table>\n",
       "</div>"
      ],
      "text/plain": [
       "        Date wh_id  Shipped Unit customer\n",
       "0 2019-08-17     1           5.0    OTHER\n",
       "1 2019-08-17     1           1.0    OTHER\n",
       "2 2019-08-17     1          22.0    OTHER\n",
       "3 2019-08-17     1           3.0    OTHER\n",
       "4 2019-08-17     1          21.0    OTHER"
      ]
     },
     "execution_count": 10,
     "metadata": {},
     "output_type": "execute_result"
    }
   ],
   "source": [
    "df_shipment = df_shipment.rename(\n",
    "    columns={'FiscalWeekLastDate': 'Date', 'Units': 'Shipped Unit'})\n",
    "df_shipment.drop(['Customer', 'Customer Name'], axis=1, inplace=True)\n",
    "df_shipment.head()"
   ]
  },
  {
   "cell_type": "code",
   "execution_count": 11,
   "metadata": {},
   "outputs": [
    {
     "data": {
      "text/plain": [
       "wh_id                    object\n",
       "Date             datetime64[ns]\n",
       "Customer                 object\n",
       "Customer Name            object\n",
       "Total order             float64\n",
       "dtype: object"
      ]
     },
     "execution_count": 11,
     "metadata": {},
     "output_type": "execute_result"
    }
   ],
   "source": [
    "df_order.dtypes"
   ]
  },
  {
   "cell_type": "code",
   "execution_count": 12,
   "metadata": {},
   "outputs": [],
   "source": [
    "df_order = df_order.dropna().reset_index(drop=True)\n",
    "df_order['customer'] = df_order['Customer Name'].apply(lambda x: 'AMAZON' if 'AMAZON' in x else\n",
    "                                                       ('WAYFAIR' if 'WAYFAIR' in x else\n",
    "                                                        ('WALMART' if 'WALMART' in x else\n",
    "                                                         ('ASHCOMM' if 'ASHCOMM' in x else 'OTHER'))))"
   ]
  },
  {
   "cell_type": "code",
   "execution_count": 13,
   "metadata": {},
   "outputs": [
    {
     "data": {
      "text/html": [
       "<div>\n",
       "<style scoped>\n",
       "    .dataframe tbody tr th:only-of-type {\n",
       "        vertical-align: middle;\n",
       "    }\n",
       "\n",
       "    .dataframe tbody tr th {\n",
       "        vertical-align: top;\n",
       "    }\n",
       "\n",
       "    .dataframe thead th {\n",
       "        text-align: right;\n",
       "    }\n",
       "</style>\n",
       "<table border=\"1\" class=\"dataframe\">\n",
       "  <thead>\n",
       "    <tr style=\"text-align: right;\">\n",
       "      <th></th>\n",
       "      <th>wh_id</th>\n",
       "      <th>Date</th>\n",
       "      <th>Customer</th>\n",
       "      <th>Customer Name</th>\n",
       "      <th>Total order</th>\n",
       "      <th>customer</th>\n",
       "    </tr>\n",
       "  </thead>\n",
       "  <tbody>\n",
       "    <tr>\n",
       "      <th>0</th>\n",
       "      <td>28</td>\n",
       "      <td>2019-06-15</td>\n",
       "      <td>4444400-100</td>\n",
       "      <td>ASHCOMM LLC</td>\n",
       "      <td>169.0</td>\n",
       "      <td>ASHCOMM</td>\n",
       "    </tr>\n",
       "    <tr>\n",
       "      <th>1</th>\n",
       "      <td>28</td>\n",
       "      <td>2019-06-15</td>\n",
       "      <td>2921200-01</td>\n",
       "      <td>ARMY &amp; AIR FORCE</td>\n",
       "      <td>1.0</td>\n",
       "      <td>OTHER</td>\n",
       "    </tr>\n",
       "    <tr>\n",
       "      <th>2</th>\n",
       "      <td>28</td>\n",
       "      <td>2019-06-15</td>\n",
       "      <td>3220800</td>\n",
       "      <td>WYCKES FURNITURE</td>\n",
       "      <td>9.0</td>\n",
       "      <td>OTHER</td>\n",
       "    </tr>\n",
       "    <tr>\n",
       "      <th>3</th>\n",
       "      <td>28</td>\n",
       "      <td>2019-06-15</td>\n",
       "      <td>3061700-11</td>\n",
       "      <td>PAYLESS FURNITURE INC.</td>\n",
       "      <td>8.0</td>\n",
       "      <td>OTHER</td>\n",
       "    </tr>\n",
       "    <tr>\n",
       "      <th>4</th>\n",
       "      <td>28</td>\n",
       "      <td>2019-06-15</td>\n",
       "      <td>1682300-01</td>\n",
       "      <td>NIX HOME CENTER</td>\n",
       "      <td>11.0</td>\n",
       "      <td>OTHER</td>\n",
       "    </tr>\n",
       "  </tbody>\n",
       "</table>\n",
       "</div>"
      ],
      "text/plain": [
       "  wh_id       Date     Customer           Customer Name  Total order customer\n",
       "0    28 2019-06-15  4444400-100             ASHCOMM LLC        169.0  ASHCOMM\n",
       "1    28 2019-06-15   2921200-01        ARMY & AIR FORCE          1.0    OTHER\n",
       "2    28 2019-06-15      3220800        WYCKES FURNITURE          9.0    OTHER\n",
       "3    28 2019-06-15   3061700-11  PAYLESS FURNITURE INC.          8.0    OTHER\n",
       "4    28 2019-06-15   1682300-01         NIX HOME CENTER         11.0    OTHER"
      ]
     },
     "execution_count": 13,
     "metadata": {},
     "output_type": "execute_result"
    }
   ],
   "source": [
    "# df_order['Date']=pd.to_datetime(df_order['Date'])\n",
    "\n",
    "df_order.head()"
   ]
  },
  {
   "cell_type": "code",
   "execution_count": 14,
   "metadata": {},
   "outputs": [],
   "source": [
    "df_shipment = df_shipment.groupby(['wh_id', 'Date', 'customer'], as_index=False)[\n",
    "    'Shipped Unit'].sum()\n",
    "df_order = df_order.groupby(['wh_id', 'Date', 'customer'], as_index=False)[\n",
    "    'Total order'].sum()"
   ]
  },
  {
   "cell_type": "code",
   "execution_count": 15,
   "metadata": {},
   "outputs": [],
   "source": [
    "df_final = pd.merge(df_shipment, df_order, how='left',\n",
    "                    on=['Date', 'wh_id', 'customer'])"
   ]
  },
  {
   "cell_type": "code",
   "execution_count": 16,
   "metadata": {},
   "outputs": [
    {
     "data": {
      "text/html": [
       "<div>\n",
       "<style scoped>\n",
       "    .dataframe tbody tr th:only-of-type {\n",
       "        vertical-align: middle;\n",
       "    }\n",
       "\n",
       "    .dataframe tbody tr th {\n",
       "        vertical-align: top;\n",
       "    }\n",
       "\n",
       "    .dataframe thead th {\n",
       "        text-align: right;\n",
       "    }\n",
       "</style>\n",
       "<table border=\"1\" class=\"dataframe\">\n",
       "  <thead>\n",
       "    <tr style=\"text-align: right;\">\n",
       "      <th></th>\n",
       "      <th>wh_id</th>\n",
       "      <th>Date</th>\n",
       "      <th>customer</th>\n",
       "      <th>Shipped Unit</th>\n",
       "      <th>Total order</th>\n",
       "    </tr>\n",
       "  </thead>\n",
       "  <tbody>\n",
       "    <tr>\n",
       "      <th>0</th>\n",
       "      <td>1</td>\n",
       "      <td>2019-08-17</td>\n",
       "      <td>AMAZON</td>\n",
       "      <td>457.0</td>\n",
       "      <td>579.0</td>\n",
       "    </tr>\n",
       "    <tr>\n",
       "      <th>1</th>\n",
       "      <td>1</td>\n",
       "      <td>2019-08-17</td>\n",
       "      <td>ASHCOMM</td>\n",
       "      <td>1634.0</td>\n",
       "      <td>2000.0</td>\n",
       "    </tr>\n",
       "    <tr>\n",
       "      <th>2</th>\n",
       "      <td>1</td>\n",
       "      <td>2019-08-17</td>\n",
       "      <td>OTHER</td>\n",
       "      <td>679.0</td>\n",
       "      <td>816.0</td>\n",
       "    </tr>\n",
       "    <tr>\n",
       "      <th>3</th>\n",
       "      <td>1</td>\n",
       "      <td>2019-08-17</td>\n",
       "      <td>WALMART</td>\n",
       "      <td>71.0</td>\n",
       "      <td>86.0</td>\n",
       "    </tr>\n",
       "    <tr>\n",
       "      <th>4</th>\n",
       "      <td>1</td>\n",
       "      <td>2019-08-17</td>\n",
       "      <td>WAYFAIR</td>\n",
       "      <td>733.0</td>\n",
       "      <td>791.0</td>\n",
       "    </tr>\n",
       "  </tbody>\n",
       "</table>\n",
       "</div>"
      ],
      "text/plain": [
       "  wh_id       Date customer  Shipped Unit  Total order\n",
       "0     1 2019-08-17   AMAZON         457.0        579.0\n",
       "1     1 2019-08-17  ASHCOMM        1634.0       2000.0\n",
       "2     1 2019-08-17    OTHER         679.0        816.0\n",
       "3     1 2019-08-17  WALMART          71.0         86.0\n",
       "4     1 2019-08-17  WAYFAIR         733.0        791.0"
      ]
     },
     "execution_count": 16,
     "metadata": {},
     "output_type": "execute_result"
    }
   ],
   "source": [
    "df_final.head()"
   ]
  },
  {
   "cell_type": "code",
   "execution_count": 17,
   "metadata": {},
   "outputs": [],
   "source": [
    "df_final = df_final.dropna().reset_index(drop=True)"
   ]
  },
  {
   "cell_type": "code",
   "execution_count": 18,
   "metadata": {},
   "outputs": [],
   "source": [
    "df_data = pd.concat([df_final, pd.get_dummies(\n",
    "    df_final[['wh_id', 'customer']])], axis=1)\n",
    "df_data.drop(['wh_id', 'customer'], axis=1, inplace=True)"
   ]
  },
  {
   "cell_type": "code",
   "execution_count": 19,
   "metadata": {},
   "outputs": [
    {
     "data": {
      "text/html": [
       "<div>\n",
       "<style scoped>\n",
       "    .dataframe tbody tr th:only-of-type {\n",
       "        vertical-align: middle;\n",
       "    }\n",
       "\n",
       "    .dataframe tbody tr th {\n",
       "        vertical-align: top;\n",
       "    }\n",
       "\n",
       "    .dataframe thead th {\n",
       "        text-align: right;\n",
       "    }\n",
       "</style>\n",
       "<table border=\"1\" class=\"dataframe\">\n",
       "  <thead>\n",
       "    <tr style=\"text-align: right;\">\n",
       "      <th></th>\n",
       "      <th>Date</th>\n",
       "      <th>Shipped Unit</th>\n",
       "      <th>Total order</th>\n",
       "      <th>wh_id_1</th>\n",
       "      <th>wh_id_15</th>\n",
       "      <th>wh_id_16</th>\n",
       "      <th>wh_id_17</th>\n",
       "      <th>wh_id_28</th>\n",
       "      <th>wh_id_42</th>\n",
       "      <th>wh_id_5</th>\n",
       "      <th>wh_id_ECR</th>\n",
       "      <th>customer_AMAZON</th>\n",
       "      <th>customer_ASHCOMM</th>\n",
       "      <th>customer_OTHER</th>\n",
       "      <th>customer_WALMART</th>\n",
       "      <th>customer_WAYFAIR</th>\n",
       "    </tr>\n",
       "  </thead>\n",
       "  <tbody>\n",
       "    <tr>\n",
       "      <th>0</th>\n",
       "      <td>2019-08-17</td>\n",
       "      <td>457.0</td>\n",
       "      <td>579.0</td>\n",
       "      <td>1</td>\n",
       "      <td>0</td>\n",
       "      <td>0</td>\n",
       "      <td>0</td>\n",
       "      <td>0</td>\n",
       "      <td>0</td>\n",
       "      <td>0</td>\n",
       "      <td>0</td>\n",
       "      <td>1</td>\n",
       "      <td>0</td>\n",
       "      <td>0</td>\n",
       "      <td>0</td>\n",
       "      <td>0</td>\n",
       "    </tr>\n",
       "    <tr>\n",
       "      <th>1</th>\n",
       "      <td>2019-08-17</td>\n",
       "      <td>1634.0</td>\n",
       "      <td>2000.0</td>\n",
       "      <td>1</td>\n",
       "      <td>0</td>\n",
       "      <td>0</td>\n",
       "      <td>0</td>\n",
       "      <td>0</td>\n",
       "      <td>0</td>\n",
       "      <td>0</td>\n",
       "      <td>0</td>\n",
       "      <td>0</td>\n",
       "      <td>1</td>\n",
       "      <td>0</td>\n",
       "      <td>0</td>\n",
       "      <td>0</td>\n",
       "    </tr>\n",
       "    <tr>\n",
       "      <th>2</th>\n",
       "      <td>2019-08-17</td>\n",
       "      <td>679.0</td>\n",
       "      <td>816.0</td>\n",
       "      <td>1</td>\n",
       "      <td>0</td>\n",
       "      <td>0</td>\n",
       "      <td>0</td>\n",
       "      <td>0</td>\n",
       "      <td>0</td>\n",
       "      <td>0</td>\n",
       "      <td>0</td>\n",
       "      <td>0</td>\n",
       "      <td>0</td>\n",
       "      <td>1</td>\n",
       "      <td>0</td>\n",
       "      <td>0</td>\n",
       "    </tr>\n",
       "    <tr>\n",
       "      <th>3</th>\n",
       "      <td>2019-08-17</td>\n",
       "      <td>71.0</td>\n",
       "      <td>86.0</td>\n",
       "      <td>1</td>\n",
       "      <td>0</td>\n",
       "      <td>0</td>\n",
       "      <td>0</td>\n",
       "      <td>0</td>\n",
       "      <td>0</td>\n",
       "      <td>0</td>\n",
       "      <td>0</td>\n",
       "      <td>0</td>\n",
       "      <td>0</td>\n",
       "      <td>0</td>\n",
       "      <td>1</td>\n",
       "      <td>0</td>\n",
       "    </tr>\n",
       "    <tr>\n",
       "      <th>4</th>\n",
       "      <td>2019-08-17</td>\n",
       "      <td>733.0</td>\n",
       "      <td>791.0</td>\n",
       "      <td>1</td>\n",
       "      <td>0</td>\n",
       "      <td>0</td>\n",
       "      <td>0</td>\n",
       "      <td>0</td>\n",
       "      <td>0</td>\n",
       "      <td>0</td>\n",
       "      <td>0</td>\n",
       "      <td>0</td>\n",
       "      <td>0</td>\n",
       "      <td>0</td>\n",
       "      <td>0</td>\n",
       "      <td>1</td>\n",
       "    </tr>\n",
       "  </tbody>\n",
       "</table>\n",
       "</div>"
      ],
      "text/plain": [
       "        Date  Shipped Unit  Total order  wh_id_1  wh_id_15  wh_id_16  \\\n",
       "0 2019-08-17         457.0        579.0        1         0         0   \n",
       "1 2019-08-17        1634.0       2000.0        1         0         0   \n",
       "2 2019-08-17         679.0        816.0        1         0         0   \n",
       "3 2019-08-17          71.0         86.0        1         0         0   \n",
       "4 2019-08-17         733.0        791.0        1         0         0   \n",
       "\n",
       "   wh_id_17  wh_id_28  wh_id_42  wh_id_5  wh_id_ECR  customer_AMAZON  \\\n",
       "0         0         0         0        0          0                1   \n",
       "1         0         0         0        0          0                0   \n",
       "2         0         0         0        0          0                0   \n",
       "3         0         0         0        0          0                0   \n",
       "4         0         0         0        0          0                0   \n",
       "\n",
       "   customer_ASHCOMM  customer_OTHER  customer_WALMART  customer_WAYFAIR  \n",
       "0                 0               0                 0                 0  \n",
       "1                 1               0                 0                 0  \n",
       "2                 0               1                 0                 0  \n",
       "3                 0               0                 1                 0  \n",
       "4                 0               0                 0                 1  "
      ]
     },
     "execution_count": 19,
     "metadata": {},
     "output_type": "execute_result"
    }
   ],
   "source": [
    "df_data.head()"
   ]
  },
  {
   "cell_type": "code",
   "execution_count": 20,
   "metadata": {},
   "outputs": [],
   "source": [
    "df_data.sort_values(['Date'],inplace=True,ignore_index=True)"
   ]
  },
  {
   "cell_type": "markdown",
   "metadata": {},
   "source": [
    "### To make the model understand the covid 19 period, we are creating a covid 19 variable that will indicate the period when the sales were down when covid 19 hit."
   ]
  },
  {
   "cell_type": "code",
   "execution_count": 21,
   "metadata": {},
   "outputs": [],
   "source": [
    "# covid variable\n",
    "# sales spike during covid was noticed between March 21st to June 27 of 2020.\n",
    "covid_19 = ['2020-03-21', '2020-06-27']\n",
    "covid_19 = pd.to_datetime(covid_19)\n",
    "\n",
    "df_data['covid_19'] = df_data['Date'].apply(\n",
    "    lambda x: 1 if x >= covid_19[0] and x <= covid_19[1] else 0)\n"
   ]
  },
  {
   "cell_type": "code",
   "execution_count": 22,
   "metadata": {
    "scrolled": true
   },
   "outputs": [
    {
     "name": "stderr",
     "output_type": "stream",
     "text": [
      "C:\\Users\\PSEN\\AppData\\Local\\Continuum\\anaconda3\\lib\\site-packages\\ipykernel_launcher.py:1: FutureWarning: Series.dt.weekofyear and Series.dt.week have been deprecated.  Please use Series.dt.isocalendar().week instead.\n",
      "  \"\"\"Entry point for launching an IPython kernel.\n"
     ]
    },
    {
     "data": {
      "text/html": [
       "<div>\n",
       "<style scoped>\n",
       "    .dataframe tbody tr th:only-of-type {\n",
       "        vertical-align: middle;\n",
       "    }\n",
       "\n",
       "    .dataframe tbody tr th {\n",
       "        vertical-align: top;\n",
       "    }\n",
       "\n",
       "    .dataframe thead th {\n",
       "        text-align: right;\n",
       "    }\n",
       "</style>\n",
       "<table border=\"1\" class=\"dataframe\">\n",
       "  <thead>\n",
       "    <tr style=\"text-align: right;\">\n",
       "      <th></th>\n",
       "      <th>Shipped Unit</th>\n",
       "      <th>Total order</th>\n",
       "      <th>wh_id_1</th>\n",
       "      <th>wh_id_15</th>\n",
       "      <th>wh_id_16</th>\n",
       "      <th>wh_id_17</th>\n",
       "      <th>wh_id_28</th>\n",
       "      <th>wh_id_42</th>\n",
       "      <th>wh_id_5</th>\n",
       "      <th>wh_id_ECR</th>\n",
       "      <th>customer_AMAZON</th>\n",
       "      <th>customer_ASHCOMM</th>\n",
       "      <th>customer_OTHER</th>\n",
       "      <th>customer_WALMART</th>\n",
       "      <th>customer_WAYFAIR</th>\n",
       "      <th>covid_19</th>\n",
       "      <th>Week</th>\n",
       "      <th>Month</th>\n",
       "      <th>Year</th>\n",
       "    </tr>\n",
       "  </thead>\n",
       "  <tbody>\n",
       "    <tr>\n",
       "      <th>0</th>\n",
       "      <td>457.0</td>\n",
       "      <td>579.0</td>\n",
       "      <td>1</td>\n",
       "      <td>0</td>\n",
       "      <td>0</td>\n",
       "      <td>0</td>\n",
       "      <td>0</td>\n",
       "      <td>0</td>\n",
       "      <td>0</td>\n",
       "      <td>0</td>\n",
       "      <td>1</td>\n",
       "      <td>0</td>\n",
       "      <td>0</td>\n",
       "      <td>0</td>\n",
       "      <td>0</td>\n",
       "      <td>0</td>\n",
       "      <td>33</td>\n",
       "      <td>8</td>\n",
       "      <td>2019</td>\n",
       "    </tr>\n",
       "    <tr>\n",
       "      <th>1</th>\n",
       "      <td>1634.0</td>\n",
       "      <td>2000.0</td>\n",
       "      <td>1</td>\n",
       "      <td>0</td>\n",
       "      <td>0</td>\n",
       "      <td>0</td>\n",
       "      <td>0</td>\n",
       "      <td>0</td>\n",
       "      <td>0</td>\n",
       "      <td>0</td>\n",
       "      <td>0</td>\n",
       "      <td>1</td>\n",
       "      <td>0</td>\n",
       "      <td>0</td>\n",
       "      <td>0</td>\n",
       "      <td>0</td>\n",
       "      <td>33</td>\n",
       "      <td>8</td>\n",
       "      <td>2019</td>\n",
       "    </tr>\n",
       "    <tr>\n",
       "      <th>2</th>\n",
       "      <td>679.0</td>\n",
       "      <td>816.0</td>\n",
       "      <td>1</td>\n",
       "      <td>0</td>\n",
       "      <td>0</td>\n",
       "      <td>0</td>\n",
       "      <td>0</td>\n",
       "      <td>0</td>\n",
       "      <td>0</td>\n",
       "      <td>0</td>\n",
       "      <td>0</td>\n",
       "      <td>0</td>\n",
       "      <td>1</td>\n",
       "      <td>0</td>\n",
       "      <td>0</td>\n",
       "      <td>0</td>\n",
       "      <td>33</td>\n",
       "      <td>8</td>\n",
       "      <td>2019</td>\n",
       "    </tr>\n",
       "    <tr>\n",
       "      <th>3</th>\n",
       "      <td>71.0</td>\n",
       "      <td>86.0</td>\n",
       "      <td>1</td>\n",
       "      <td>0</td>\n",
       "      <td>0</td>\n",
       "      <td>0</td>\n",
       "      <td>0</td>\n",
       "      <td>0</td>\n",
       "      <td>0</td>\n",
       "      <td>0</td>\n",
       "      <td>0</td>\n",
       "      <td>0</td>\n",
       "      <td>0</td>\n",
       "      <td>1</td>\n",
       "      <td>0</td>\n",
       "      <td>0</td>\n",
       "      <td>33</td>\n",
       "      <td>8</td>\n",
       "      <td>2019</td>\n",
       "    </tr>\n",
       "    <tr>\n",
       "      <th>4</th>\n",
       "      <td>733.0</td>\n",
       "      <td>791.0</td>\n",
       "      <td>1</td>\n",
       "      <td>0</td>\n",
       "      <td>0</td>\n",
       "      <td>0</td>\n",
       "      <td>0</td>\n",
       "      <td>0</td>\n",
       "      <td>0</td>\n",
       "      <td>0</td>\n",
       "      <td>0</td>\n",
       "      <td>0</td>\n",
       "      <td>0</td>\n",
       "      <td>0</td>\n",
       "      <td>1</td>\n",
       "      <td>0</td>\n",
       "      <td>33</td>\n",
       "      <td>8</td>\n",
       "      <td>2019</td>\n",
       "    </tr>\n",
       "  </tbody>\n",
       "</table>\n",
       "</div>"
      ],
      "text/plain": [
       "   Shipped Unit  Total order  wh_id_1  wh_id_15  wh_id_16  wh_id_17  wh_id_28  \\\n",
       "0         457.0        579.0        1         0         0         0         0   \n",
       "1        1634.0       2000.0        1         0         0         0         0   \n",
       "2         679.0        816.0        1         0         0         0         0   \n",
       "3          71.0         86.0        1         0         0         0         0   \n",
       "4         733.0        791.0        1         0         0         0         0   \n",
       "\n",
       "   wh_id_42  wh_id_5  wh_id_ECR  customer_AMAZON  customer_ASHCOMM  \\\n",
       "0         0        0          0                1                 0   \n",
       "1         0        0          0                0                 1   \n",
       "2         0        0          0                0                 0   \n",
       "3         0        0          0                0                 0   \n",
       "4         0        0          0                0                 0   \n",
       "\n",
       "   customer_OTHER  customer_WALMART  customer_WAYFAIR  covid_19  Week  Month  \\\n",
       "0               0                 0                 0         0    33      8   \n",
       "1               0                 0                 0         0    33      8   \n",
       "2               1                 0                 0         0    33      8   \n",
       "3               0                 1                 0         0    33      8   \n",
       "4               0                 0                 1         0    33      8   \n",
       "\n",
       "   Year  \n",
       "0  2019  \n",
       "1  2019  \n",
       "2  2019  \n",
       "3  2019  \n",
       "4  2019  "
      ]
     },
     "execution_count": 22,
     "metadata": {},
     "output_type": "execute_result"
    }
   ],
   "source": [
    "df_data['Week'] = df_data['Date'].dt.week\n",
    "df_data['Month'] = df_data['Date'].dt.month\n",
    "df_data['Year'] = df_data['Date'].dt.year\n",
    "df_data = df_data.drop('Date', axis=1)\n",
    "df_data.head()"
   ]
  },
  {
   "cell_type": "markdown",
   "metadata": {},
   "source": [
    "### Way day and prime day are the two days when we need to ship more units to wayfair and amazon. That is why we are making two variables to mention wayday and primeday"
   ]
  },
  {
   "cell_type": "code",
   "execution_count": 23,
   "metadata": {
    "scrolled": false
   },
   "outputs": [
    {
     "name": "stderr",
     "output_type": "stream",
     "text": [
      "C:\\Users\\PSEN\\AppData\\Local\\Continuum\\anaconda3\\lib\\site-packages\\ipykernel_launcher.py:13: FutureWarning: Series.dt.weekofyear and Series.dt.week have been deprecated.  Please use Series.dt.isocalendar().week instead.\n",
      "  del sys.path[0]\n",
      "C:\\Users\\PSEN\\AppData\\Local\\Continuum\\anaconda3\\lib\\site-packages\\ipykernel_launcher.py:24: FutureWarning: Series.dt.weekofyear and Series.dt.week have been deprecated.  Please use Series.dt.isocalendar().week instead.\n"
     ]
    }
   ],
   "source": [
    "way_day=pd.DataFrame(['2019-04-10', '2019-04-11','2020-09-23', '2020-09-24','2021-04-28', '2021-04-29'],columns=['date'])\n",
    "prime_day=pd.DataFrame(['2019-07-15', '2019-07-16','2020-10-13', '2020-10-14','2021-06-21', '2021-06-22'],columns=['date'])\n",
    "\n",
    "# convert to datetime\n",
    "way_day['date'] = pd.to_datetime(way_day['date'])\n",
    "prime_day['date'] = pd.to_datetime(prime_day['date'])\n",
    "\n",
    "\n",
    "\n",
    "def wayday(week,year,customer):\n",
    "    way=0\n",
    "    if str(week)+\"_\"+str(year) in ((way_day['date'].dt.week).astype(str) \n",
    "                                   + \"_\" + (way_day['date'].dt.year).astype(str)).tolist() and customer==1:\n",
    "        way=1\n",
    "    else:\n",
    "        way=0\n",
    "    return way\n",
    "\n",
    "\n",
    "\n",
    "def primeday(week,year,customer):\n",
    "    prime=0\n",
    "    if str(week)+\"_\"+str(year) in ((prime_day['date'].dt.week).astype(str) \n",
    "                                   + \"_\" + (prime_day['date'].dt.year).astype(str)).tolist() and customer==1:\n",
    "        prime=1\n",
    "    else:\n",
    "        prime=0\n",
    "    return prime\n",
    "\n",
    "df_data['Wayday']=df_data[['Week','Year','customer_WAYFAIR']].apply(lambda x: wayday(*x),axis=1)\n",
    "#df_data['Wayday_v1']=df_data[['Week','Year','customer_WAYFAIR']].apply(lambda x: wayday(*x),axis=1)\n",
    "df_data['Primeday']=df_data[['Week','Year','customer_AMAZON']].apply(lambda x: primeday(*x),axis=1)\n",
    "#df_data['Primeday_v1']=df_data[['Week','Year','customer_AMAZON']].apply(lambda x: primeday_v1(*x),axis=1)\n",
    "\n"
   ]
  },
  {
   "cell_type": "code",
   "execution_count": 24,
   "metadata": {},
   "outputs": [
    {
     "data": {
      "text/html": [
       "<div>\n",
       "<style scoped>\n",
       "    .dataframe tbody tr th:only-of-type {\n",
       "        vertical-align: middle;\n",
       "    }\n",
       "\n",
       "    .dataframe tbody tr th {\n",
       "        vertical-align: top;\n",
       "    }\n",
       "\n",
       "    .dataframe thead th {\n",
       "        text-align: right;\n",
       "    }\n",
       "</style>\n",
       "<table border=\"1\" class=\"dataframe\">\n",
       "  <thead>\n",
       "    <tr style=\"text-align: right;\">\n",
       "      <th></th>\n",
       "      <th>Shipped Unit</th>\n",
       "      <th>Total order</th>\n",
       "      <th>wh_id_1</th>\n",
       "      <th>wh_id_15</th>\n",
       "      <th>wh_id_16</th>\n",
       "      <th>wh_id_17</th>\n",
       "      <th>wh_id_28</th>\n",
       "      <th>wh_id_42</th>\n",
       "      <th>wh_id_5</th>\n",
       "      <th>wh_id_ECR</th>\n",
       "      <th>...</th>\n",
       "      <th>customer_ASHCOMM</th>\n",
       "      <th>customer_OTHER</th>\n",
       "      <th>customer_WALMART</th>\n",
       "      <th>customer_WAYFAIR</th>\n",
       "      <th>covid_19</th>\n",
       "      <th>Week</th>\n",
       "      <th>Month</th>\n",
       "      <th>Year</th>\n",
       "      <th>Wayday</th>\n",
       "      <th>Primeday</th>\n",
       "    </tr>\n",
       "  </thead>\n",
       "  <tbody>\n",
       "    <tr>\n",
       "      <th>0</th>\n",
       "      <td>457.0</td>\n",
       "      <td>579.0</td>\n",
       "      <td>1</td>\n",
       "      <td>0</td>\n",
       "      <td>0</td>\n",
       "      <td>0</td>\n",
       "      <td>0</td>\n",
       "      <td>0</td>\n",
       "      <td>0</td>\n",
       "      <td>0</td>\n",
       "      <td>...</td>\n",
       "      <td>0</td>\n",
       "      <td>0</td>\n",
       "      <td>0</td>\n",
       "      <td>0</td>\n",
       "      <td>0</td>\n",
       "      <td>33</td>\n",
       "      <td>8</td>\n",
       "      <td>2019</td>\n",
       "      <td>0</td>\n",
       "      <td>0</td>\n",
       "    </tr>\n",
       "    <tr>\n",
       "      <th>1</th>\n",
       "      <td>1634.0</td>\n",
       "      <td>2000.0</td>\n",
       "      <td>1</td>\n",
       "      <td>0</td>\n",
       "      <td>0</td>\n",
       "      <td>0</td>\n",
       "      <td>0</td>\n",
       "      <td>0</td>\n",
       "      <td>0</td>\n",
       "      <td>0</td>\n",
       "      <td>...</td>\n",
       "      <td>1</td>\n",
       "      <td>0</td>\n",
       "      <td>0</td>\n",
       "      <td>0</td>\n",
       "      <td>0</td>\n",
       "      <td>33</td>\n",
       "      <td>8</td>\n",
       "      <td>2019</td>\n",
       "      <td>0</td>\n",
       "      <td>0</td>\n",
       "    </tr>\n",
       "    <tr>\n",
       "      <th>2</th>\n",
       "      <td>679.0</td>\n",
       "      <td>816.0</td>\n",
       "      <td>1</td>\n",
       "      <td>0</td>\n",
       "      <td>0</td>\n",
       "      <td>0</td>\n",
       "      <td>0</td>\n",
       "      <td>0</td>\n",
       "      <td>0</td>\n",
       "      <td>0</td>\n",
       "      <td>...</td>\n",
       "      <td>0</td>\n",
       "      <td>1</td>\n",
       "      <td>0</td>\n",
       "      <td>0</td>\n",
       "      <td>0</td>\n",
       "      <td>33</td>\n",
       "      <td>8</td>\n",
       "      <td>2019</td>\n",
       "      <td>0</td>\n",
       "      <td>0</td>\n",
       "    </tr>\n",
       "    <tr>\n",
       "      <th>3</th>\n",
       "      <td>71.0</td>\n",
       "      <td>86.0</td>\n",
       "      <td>1</td>\n",
       "      <td>0</td>\n",
       "      <td>0</td>\n",
       "      <td>0</td>\n",
       "      <td>0</td>\n",
       "      <td>0</td>\n",
       "      <td>0</td>\n",
       "      <td>0</td>\n",
       "      <td>...</td>\n",
       "      <td>0</td>\n",
       "      <td>0</td>\n",
       "      <td>1</td>\n",
       "      <td>0</td>\n",
       "      <td>0</td>\n",
       "      <td>33</td>\n",
       "      <td>8</td>\n",
       "      <td>2019</td>\n",
       "      <td>0</td>\n",
       "      <td>0</td>\n",
       "    </tr>\n",
       "    <tr>\n",
       "      <th>4</th>\n",
       "      <td>733.0</td>\n",
       "      <td>791.0</td>\n",
       "      <td>1</td>\n",
       "      <td>0</td>\n",
       "      <td>0</td>\n",
       "      <td>0</td>\n",
       "      <td>0</td>\n",
       "      <td>0</td>\n",
       "      <td>0</td>\n",
       "      <td>0</td>\n",
       "      <td>...</td>\n",
       "      <td>0</td>\n",
       "      <td>0</td>\n",
       "      <td>0</td>\n",
       "      <td>1</td>\n",
       "      <td>0</td>\n",
       "      <td>33</td>\n",
       "      <td>8</td>\n",
       "      <td>2019</td>\n",
       "      <td>0</td>\n",
       "      <td>0</td>\n",
       "    </tr>\n",
       "    <tr>\n",
       "      <th>...</th>\n",
       "      <td>...</td>\n",
       "      <td>...</td>\n",
       "      <td>...</td>\n",
       "      <td>...</td>\n",
       "      <td>...</td>\n",
       "      <td>...</td>\n",
       "      <td>...</td>\n",
       "      <td>...</td>\n",
       "      <td>...</td>\n",
       "      <td>...</td>\n",
       "      <td>...</td>\n",
       "      <td>...</td>\n",
       "      <td>...</td>\n",
       "      <td>...</td>\n",
       "      <td>...</td>\n",
       "      <td>...</td>\n",
       "      <td>...</td>\n",
       "      <td>...</td>\n",
       "      <td>...</td>\n",
       "      <td>...</td>\n",
       "      <td>...</td>\n",
       "    </tr>\n",
       "    <tr>\n",
       "      <th>2932</th>\n",
       "      <td>838.0</td>\n",
       "      <td>862.0</td>\n",
       "      <td>1</td>\n",
       "      <td>0</td>\n",
       "      <td>0</td>\n",
       "      <td>0</td>\n",
       "      <td>0</td>\n",
       "      <td>0</td>\n",
       "      <td>0</td>\n",
       "      <td>0</td>\n",
       "      <td>...</td>\n",
       "      <td>0</td>\n",
       "      <td>0</td>\n",
       "      <td>0</td>\n",
       "      <td>1</td>\n",
       "      <td>0</td>\n",
       "      <td>24</td>\n",
       "      <td>6</td>\n",
       "      <td>2021</td>\n",
       "      <td>0</td>\n",
       "      <td>0</td>\n",
       "    </tr>\n",
       "    <tr>\n",
       "      <th>2933</th>\n",
       "      <td>227.0</td>\n",
       "      <td>168.0</td>\n",
       "      <td>1</td>\n",
       "      <td>0</td>\n",
       "      <td>0</td>\n",
       "      <td>0</td>\n",
       "      <td>0</td>\n",
       "      <td>0</td>\n",
       "      <td>0</td>\n",
       "      <td>0</td>\n",
       "      <td>...</td>\n",
       "      <td>0</td>\n",
       "      <td>0</td>\n",
       "      <td>1</td>\n",
       "      <td>0</td>\n",
       "      <td>0</td>\n",
       "      <td>24</td>\n",
       "      <td>6</td>\n",
       "      <td>2021</td>\n",
       "      <td>0</td>\n",
       "      <td>0</td>\n",
       "    </tr>\n",
       "    <tr>\n",
       "      <th>2934</th>\n",
       "      <td>1213.0</td>\n",
       "      <td>1252.0</td>\n",
       "      <td>1</td>\n",
       "      <td>0</td>\n",
       "      <td>0</td>\n",
       "      <td>0</td>\n",
       "      <td>0</td>\n",
       "      <td>0</td>\n",
       "      <td>0</td>\n",
       "      <td>0</td>\n",
       "      <td>...</td>\n",
       "      <td>0</td>\n",
       "      <td>1</td>\n",
       "      <td>0</td>\n",
       "      <td>0</td>\n",
       "      <td>0</td>\n",
       "      <td>24</td>\n",
       "      <td>6</td>\n",
       "      <td>2021</td>\n",
       "      <td>0</td>\n",
       "      <td>0</td>\n",
       "    </tr>\n",
       "    <tr>\n",
       "      <th>2935</th>\n",
       "      <td>1009.0</td>\n",
       "      <td>1025.0</td>\n",
       "      <td>1</td>\n",
       "      <td>0</td>\n",
       "      <td>0</td>\n",
       "      <td>0</td>\n",
       "      <td>0</td>\n",
       "      <td>0</td>\n",
       "      <td>0</td>\n",
       "      <td>0</td>\n",
       "      <td>...</td>\n",
       "      <td>0</td>\n",
       "      <td>0</td>\n",
       "      <td>0</td>\n",
       "      <td>0</td>\n",
       "      <td>0</td>\n",
       "      <td>24</td>\n",
       "      <td>6</td>\n",
       "      <td>2021</td>\n",
       "      <td>0</td>\n",
       "      <td>0</td>\n",
       "    </tr>\n",
       "    <tr>\n",
       "      <th>2936</th>\n",
       "      <td>473.0</td>\n",
       "      <td>470.0</td>\n",
       "      <td>0</td>\n",
       "      <td>0</td>\n",
       "      <td>0</td>\n",
       "      <td>0</td>\n",
       "      <td>0</td>\n",
       "      <td>0</td>\n",
       "      <td>0</td>\n",
       "      <td>1</td>\n",
       "      <td>...</td>\n",
       "      <td>0</td>\n",
       "      <td>0</td>\n",
       "      <td>0</td>\n",
       "      <td>1</td>\n",
       "      <td>0</td>\n",
       "      <td>24</td>\n",
       "      <td>6</td>\n",
       "      <td>2021</td>\n",
       "      <td>0</td>\n",
       "      <td>0</td>\n",
       "    </tr>\n",
       "  </tbody>\n",
       "</table>\n",
       "<p>2937 rows × 21 columns</p>\n",
       "</div>"
      ],
      "text/plain": [
       "      Shipped Unit  Total order  wh_id_1  wh_id_15  wh_id_16  wh_id_17  \\\n",
       "0            457.0        579.0        1         0         0         0   \n",
       "1           1634.0       2000.0        1         0         0         0   \n",
       "2            679.0        816.0        1         0         0         0   \n",
       "3             71.0         86.0        1         0         0         0   \n",
       "4            733.0        791.0        1         0         0         0   \n",
       "...            ...          ...      ...       ...       ...       ...   \n",
       "2932         838.0        862.0        1         0         0         0   \n",
       "2933         227.0        168.0        1         0         0         0   \n",
       "2934        1213.0       1252.0        1         0         0         0   \n",
       "2935        1009.0       1025.0        1         0         0         0   \n",
       "2936         473.0        470.0        0         0         0         0   \n",
       "\n",
       "      wh_id_28  wh_id_42  wh_id_5  wh_id_ECR  ...  customer_ASHCOMM  \\\n",
       "0            0         0        0          0  ...                 0   \n",
       "1            0         0        0          0  ...                 1   \n",
       "2            0         0        0          0  ...                 0   \n",
       "3            0         0        0          0  ...                 0   \n",
       "4            0         0        0          0  ...                 0   \n",
       "...        ...       ...      ...        ...  ...               ...   \n",
       "2932         0         0        0          0  ...                 0   \n",
       "2933         0         0        0          0  ...                 0   \n",
       "2934         0         0        0          0  ...                 0   \n",
       "2935         0         0        0          0  ...                 0   \n",
       "2936         0         0        0          1  ...                 0   \n",
       "\n",
       "      customer_OTHER  customer_WALMART  customer_WAYFAIR  covid_19  Week  \\\n",
       "0                  0                 0                 0         0    33   \n",
       "1                  0                 0                 0         0    33   \n",
       "2                  1                 0                 0         0    33   \n",
       "3                  0                 1                 0         0    33   \n",
       "4                  0                 0                 1         0    33   \n",
       "...              ...               ...               ...       ...   ...   \n",
       "2932               0                 0                 1         0    24   \n",
       "2933               0                 1                 0         0    24   \n",
       "2934               1                 0                 0         0    24   \n",
       "2935               0                 0                 0         0    24   \n",
       "2936               0                 0                 1         0    24   \n",
       "\n",
       "      Month  Year  Wayday  Primeday  \n",
       "0         8  2019       0         0  \n",
       "1         8  2019       0         0  \n",
       "2         8  2019       0         0  \n",
       "3         8  2019       0         0  \n",
       "4         8  2019       0         0  \n",
       "...     ...   ...     ...       ...  \n",
       "2932      6  2021       0         0  \n",
       "2933      6  2021       0         0  \n",
       "2934      6  2021       0         0  \n",
       "2935      6  2021       0         0  \n",
       "2936      6  2021       0         0  \n",
       "\n",
       "[2937 rows x 21 columns]"
      ]
     },
     "execution_count": 24,
     "metadata": {},
     "output_type": "execute_result"
    }
   ],
   "source": [
    "df_data"
   ]
  },
  {
   "cell_type": "markdown",
   "metadata": {},
   "source": [
    "# Model Building"
   ]
  },
  {
   "cell_type": "code",
   "execution_count": 25,
   "metadata": {},
   "outputs": [],
   "source": [
    "y = df_data['Shipped Unit']\n",
    "x = df_data.drop(['Shipped Unit'], axis=1)\n",
    "\n",
    "b = int(len(df_data)*.80)\n",
    "x_train, x_test = x.iloc[0:b, ], x.iloc[b:]\n",
    "y_train, y_test = y.iloc[0:b], y.iloc[b:]"
   ]
  },
  {
   "cell_type": "code",
   "execution_count": 26,
   "metadata": {},
   "outputs": [
    {
     "data": {
      "text/plain": [
       "Total order         float64\n",
       "wh_id_1               uint8\n",
       "wh_id_15              uint8\n",
       "wh_id_16              uint8\n",
       "wh_id_17              uint8\n",
       "wh_id_28              uint8\n",
       "wh_id_42              uint8\n",
       "wh_id_5               uint8\n",
       "wh_id_ECR             uint8\n",
       "customer_AMAZON       uint8\n",
       "customer_ASHCOMM      uint8\n",
       "customer_OTHER        uint8\n",
       "customer_WALMART      uint8\n",
       "customer_WAYFAIR      uint8\n",
       "covid_19              int64\n",
       "Week                  int64\n",
       "Month                 int64\n",
       "Year                  int64\n",
       "Wayday                int64\n",
       "Primeday              int64\n",
       "dtype: object"
      ]
     },
     "execution_count": 26,
     "metadata": {},
     "output_type": "execute_result"
    }
   ],
   "source": [
    "x.dtypes"
   ]
  },
  {
   "cell_type": "code",
   "execution_count": 27,
   "metadata": {},
   "outputs": [],
   "source": [
    "rf_model = RandomForestRegressor(random_state=0)\n",
    "xgb_model = xgb.XGBRegressor(objective='reg:squarederror')\n",
    "# rf_model.fit(x_train,y_train)"
   ]
  },
  {
   "cell_type": "code",
   "execution_count": 28,
   "metadata": {},
   "outputs": [],
   "source": [
    "tss = TimeSeriesSplit(n_splits=3)"
   ]
  },
  {
   "cell_type": "code",
   "execution_count": 29,
   "metadata": {},
   "outputs": [],
   "source": [
    "rf_scores = cross_val_score(\n",
    "    rf_model, X=x, y=y, cv=tss, scoring='neg_mean_absolute_percentage_error')\n",
    "xgb_scores = cross_val_score(\n",
    "    xgb_model, X=x, y=y, cv=tss, scoring='neg_mean_absolute_percentage_error')"
   ]
  },
  {
   "cell_type": "code",
   "execution_count": 30,
   "metadata": {},
   "outputs": [
    {
     "name": "stdout",
     "output_type": "stream",
     "text": [
      "The corss validation scores for Random Forest Regression are [0.09394811 0.46376074 0.14528869]\n",
      "The cross validation scores for xgboost regression are [0.10726268 0.5096494  0.3299462 ]\n"
     ]
    }
   ],
   "source": [
    "print(\n",
    "    f'The corss validation scores for Random Forest Regression are {abs(rf_scores)}')\n",
    "print(\n",
    "    f'The cross validation scores for xgboost regression are {abs(xgb_scores)}')"
   ]
  },
  {
   "cell_type": "markdown",
   "metadata": {},
   "source": [
    "### On 3 fold cross-validation, Random Forest Regression is doing better than xgboost. We will use Random Forest by tuning it's parameter"
   ]
  },
  {
   "cell_type": "markdown",
   "metadata": {},
   "source": [
    "# Tuning Hyperparameter"
   ]
  },
  {
   "cell_type": "code",
   "execution_count": 31,
   "metadata": {},
   "outputs": [],
   "source": [
    "# functions to train random forest regression model\n",
    "def model_rf(x_train, y_train):  # Function fits the random forest regression\n",
    "    model = RandomForestRegressor(random_state=0)\n",
    "    return model.fit(x_train, y_train)\n",
    "\n",
    "\n",
    "model = model_rf(x_train, y_train)"
   ]
  },
  {
   "cell_type": "code",
   "execution_count": 32,
   "metadata": {},
   "outputs": [],
   "source": [
    "# Funtion takes a fitted model and predicts based on x_test values and calculates the MAPE\n",
    "def result(model, x_test, y_true):\n",
    "    y_pred = model.predict(x_test)\n",
    "    mape = mean_absolute_percentage_error(y_true, y_pred)*100\n",
    "    return mape"
   ]
  },
  {
   "cell_type": "markdown",
   "metadata": {},
   "source": [
    "### MAPE without tuning hyper-parameter"
   ]
  },
  {
   "cell_type": "code",
   "execution_count": 33,
   "metadata": {},
   "outputs": [
    {
     "data": {
      "text/plain": [
       "10.900985336410942"
      ]
     },
     "execution_count": 33,
     "metadata": {},
     "output_type": "execute_result"
    }
   ],
   "source": [
    "result(model, x_test, y_test)"
   ]
  },
  {
   "cell_type": "code",
   "execution_count": 34,
   "metadata": {},
   "outputs": [
    {
     "name": "stdout",
     "output_type": "stream",
     "text": [
      "Fitting 3 folds for each of 216 candidates, totalling 648 fits\n"
     ]
    }
   ],
   "source": [
    "from sklearn.model_selection import GridSearchCV\n",
    "\n",
    "# define the grid\n",
    "params = {\n",
    "    \"n_estimators\": [50, 100, 150],\n",
    "    \"max_features\": [0.33, 0.66, 1.0],\n",
    "    \"min_samples_split\": [2, 8, 14],\n",
    "    \"min_samples_leaf\": [1, 5, 10, 15],\n",
    "    \"bootstrap\": [True, False]\n",
    "}\n",
    "\n",
    "# setup the grid search\n",
    "grid_search = GridSearchCV(model,\n",
    "                           param_grid=params,\n",
    "                           cv=tss,\n",
    "                           verbose=1,\n",
    "                           n_jobs=4,\n",
    "                           return_train_score=True)\n",
    "\n",
    "rf_grid = grid_search.fit(x_train, y_train)"
   ]
  },
  {
   "cell_type": "markdown",
   "metadata": {},
   "source": [
    "### MAPE after tuning hyper-parameter"
   ]
  },
  {
   "cell_type": "code",
   "execution_count": 35,
   "metadata": {},
   "outputs": [
    {
     "data": {
      "text/plain": [
       "10.702971895157017"
      ]
     },
     "execution_count": 35,
     "metadata": {},
     "output_type": "execute_result"
    }
   ],
   "source": [
    "result(rf_grid, x_test, y_test)"
   ]
  },
  {
   "cell_type": "markdown",
   "metadata": {},
   "source": [
    "# Check with auto ml library (TPOT)"
   ]
  },
  {
   "cell_type": "markdown",
   "metadata": {},
   "source": [
    "### To understand what pipeline can fit our data well, we tried TPOT auto ml package to test pipelines"
   ]
  },
  {
   "cell_type": "code",
   "execution_count": 37,
   "metadata": {},
   "outputs": [
    {
     "name": "stderr",
     "output_type": "stream",
     "text": [
      "C:\\Users\\PSEN\\AppData\\Local\\Continuum\\anaconda3\\lib\\site-packages\\tpot\\builtins\\__init__.py:36: UserWarning: Warning: optional dependency `torch` is not available. - skipping import of NN models.\n",
      "  warnings.warn(\"Warning: optional dependency `torch` is not available. - skipping import of NN models.\")\n"
     ]
    }
   ],
   "source": [
    "from tpot import TPOTRegressor"
   ]
  },
  {
   "cell_type": "code",
   "execution_count": 38,
   "metadata": {},
   "outputs": [
    {
     "data": {
      "application/vnd.jupyter.widget-view+json": {
       "model_id": "",
       "version_major": 2,
       "version_minor": 0
      },
      "text/plain": [
       "Optimization Progress:   0%|          | 0/320 [00:00<?, ?pipeline/s]"
      ]
     },
     "metadata": {},
     "output_type": "display_data"
    },
    {
     "name": "stdout",
     "output_type": "stream",
     "text": [
      "\n",
      "Generation 1 - Current best internal CV score: -0.18362999084606613\n",
      "\n",
      "Generation 2 - Current best internal CV score: -0.18362999084606613\n",
      "\n",
      "Generation 3 - Current best internal CV score: -0.18362999084606613\n",
      "\n",
      "Generation 4 - Current best internal CV score: -0.18362999084606613\n",
      "\n",
      "Generation 5 - Current best internal CV score: -0.182032964106323\n",
      "\n",
      "Generation 6 - Current best internal CV score: -0.18105942971205616\n",
      "\n",
      "Generation 7 - Current best internal CV score: -0.18036160412950597\n",
      "\n",
      "Generation 8 - Current best internal CV score: -0.17993231443960025\n",
      "\n",
      "Generation 9 - Current best internal CV score: -0.1789896938773851\n",
      "\n",
      "Generation 10 - Current best internal CV score: -0.1789896938773851\n",
      "\n",
      "Generation 11 - Current best internal CV score: -0.1789896938773851\n",
      "\n",
      "Generation 12 - Current best internal CV score: -0.1789896938773851\n",
      "\n",
      "Generation 13 - Current best internal CV score: -0.1789896938773851\n",
      "\n",
      "Generation 14 - Current best internal CV score: -0.1789896938773851\n",
      "\n",
      "Generation 15 - Current best internal CV score: -0.1789896938773851\n",
      "\n",
      "Best pipeline: LinearSVR(LinearSVR(SelectPercentile(input_matrix, percentile=5), C=10.0, dual=True, epsilon=1.0, loss=epsilon_insensitive, tol=0.01), C=5.0, dual=False, epsilon=0.01, loss=squared_epsilon_insensitive, tol=1e-05)\n",
      "-0.0981849450727361\n"
     ]
    }
   ],
   "source": [
    "tpot = TPOTRegressor(generations=15, population_size=20, verbosity=2,\n",
    "                     cv=tss, n_jobs=1, scoring='neg_mean_absolute_percentage_error')\n",
    "tpot.fit(x_train, y_train)\n",
    "print(tpot.score(x_test, y_test))\n",
    "tpot.export('tpot_optimum_pipeline.py')"
   ]
  },
  {
   "cell_type": "markdown",
   "metadata": {},
   "source": [
    "### We can see that on training data TPOT is giving us app. 18% MAPE. Finally in the test data, it gave us a 9.81% MAPE. In comparison with our Random Forest, TOPT is giving us better results both on training and test set"
   ]
  }
 ],
 "metadata": {
  "kernelspec": {
   "display_name": "Python 3",
   "language": "python",
   "name": "python3"
  },
  "language_info": {
   "codemirror_mode": {
    "name": "ipython",
    "version": 3
   },
   "file_extension": ".py",
   "mimetype": "text/x-python",
   "name": "python",
   "nbconvert_exporter": "python",
   "pygments_lexer": "ipython3",
   "version": "3.7.4"
  },
  "varInspector": {
   "cols": {
    "lenName": 16,
    "lenType": 16,
    "lenVar": 40
   },
   "kernels_config": {
    "python": {
     "delete_cmd_postfix": "",
     "delete_cmd_prefix": "del ",
     "library": "var_list.py",
     "varRefreshCmd": "print(var_dic_list())"
    },
    "r": {
     "delete_cmd_postfix": ") ",
     "delete_cmd_prefix": "rm(",
     "library": "var_list.r",
     "varRefreshCmd": "cat(var_dic_list()) "
    }
   },
   "types_to_exclude": [
    "module",
    "function",
    "builtin_function_or_method",
    "instance",
    "_Feature"
   ],
   "window_display": false
  }
 },
 "nbformat": 4,
 "nbformat_minor": 2
}
